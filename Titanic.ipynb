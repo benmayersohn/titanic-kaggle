{
 "cells": [
  {
   "cell_type": "markdown",
   "metadata": {},
   "source": [
    "# Titanic Competition\n",
    "\n",
    "This is the introductory competition on Kaggle, typically used as a learning tool for newbies to data science and the Kaggle platform. A dataset of passengers on the Titanic is provided [here](https://www.kaggle.com/c/titanic/data), along with the following description:\n",
    "\n",
    ">The sinking of the RMS Titanic is one of the most infamous shipwrecks in history.  On April 15, 1912, during her maiden voyage, the Titanic sank after colliding with an iceberg, killing 1502 out of 2224 passengers and crew. This sensational tragedy shocked the international community and led to better safety regulations for ships.\n",
    "\n",
    ">One of the reasons that the shipwreck led to such loss of life was that there were not enough lifeboats for the passengers and crew. Although there was some element of luck involved in surviving the sinking, some groups of people were more likely to survive than others, such as women, children, and the upper-class.\n",
    "\n",
    ">In this challenge, we ask you to complete the analysis of what sorts of people were likely to survive. In particular, we ask you to **apply the tools of machine learning to predict which passengers survived the tragedy**.\n",
    "\n",
    "So we are expected to use a binary classifier model for the outcome (`survival`) that we can train on the provided `train.csv` file, and test on the provided `test.csv` file.\n",
    "\n",
    "Let's read in our train and test files."
   ]
  },
  {
   "cell_type": "code",
   "execution_count": 1049,
   "metadata": {},
   "outputs": [],
   "source": [
    "import pandas as pd\n",
    "\n",
    "train = pd.read_csv('train.csv')\n",
    "test = pd.read_csv('test.csv')"
   ]
  },
  {
   "cell_type": "markdown",
   "metadata": {},
   "source": [
    "And we can look at the first five rows of `train`:"
   ]
  },
  {
   "cell_type": "code",
   "execution_count": 1050,
   "metadata": {},
   "outputs": [
    {
     "data": {
      "text/html": [
       "<div>\n",
       "<style scoped>\n",
       "    .dataframe tbody tr th:only-of-type {\n",
       "        vertical-align: middle;\n",
       "    }\n",
       "\n",
       "    .dataframe tbody tr th {\n",
       "        vertical-align: top;\n",
       "    }\n",
       "\n",
       "    .dataframe thead th {\n",
       "        text-align: right;\n",
       "    }\n",
       "</style>\n",
       "<table border=\"1\" class=\"dataframe\">\n",
       "  <thead>\n",
       "    <tr style=\"text-align: right;\">\n",
       "      <th></th>\n",
       "      <th>PassengerId</th>\n",
       "      <th>Survived</th>\n",
       "      <th>Pclass</th>\n",
       "      <th>Name</th>\n",
       "      <th>Sex</th>\n",
       "      <th>Age</th>\n",
       "      <th>SibSp</th>\n",
       "      <th>Parch</th>\n",
       "      <th>Ticket</th>\n",
       "      <th>Fare</th>\n",
       "      <th>Cabin</th>\n",
       "      <th>Embarked</th>\n",
       "    </tr>\n",
       "  </thead>\n",
       "  <tbody>\n",
       "    <tr>\n",
       "      <th>0</th>\n",
       "      <td>1</td>\n",
       "      <td>0</td>\n",
       "      <td>3</td>\n",
       "      <td>Braund, Mr. Owen Harris</td>\n",
       "      <td>male</td>\n",
       "      <td>22.0</td>\n",
       "      <td>1</td>\n",
       "      <td>0</td>\n",
       "      <td>A/5 21171</td>\n",
       "      <td>7.2500</td>\n",
       "      <td>NaN</td>\n",
       "      <td>S</td>\n",
       "    </tr>\n",
       "    <tr>\n",
       "      <th>1</th>\n",
       "      <td>2</td>\n",
       "      <td>1</td>\n",
       "      <td>1</td>\n",
       "      <td>Cumings, Mrs. John Bradley (Florence Briggs Th...</td>\n",
       "      <td>female</td>\n",
       "      <td>38.0</td>\n",
       "      <td>1</td>\n",
       "      <td>0</td>\n",
       "      <td>PC 17599</td>\n",
       "      <td>71.2833</td>\n",
       "      <td>C85</td>\n",
       "      <td>C</td>\n",
       "    </tr>\n",
       "    <tr>\n",
       "      <th>2</th>\n",
       "      <td>3</td>\n",
       "      <td>1</td>\n",
       "      <td>3</td>\n",
       "      <td>Heikkinen, Miss. Laina</td>\n",
       "      <td>female</td>\n",
       "      <td>26.0</td>\n",
       "      <td>0</td>\n",
       "      <td>0</td>\n",
       "      <td>STON/O2. 3101282</td>\n",
       "      <td>7.9250</td>\n",
       "      <td>NaN</td>\n",
       "      <td>S</td>\n",
       "    </tr>\n",
       "    <tr>\n",
       "      <th>3</th>\n",
       "      <td>4</td>\n",
       "      <td>1</td>\n",
       "      <td>1</td>\n",
       "      <td>Futrelle, Mrs. Jacques Heath (Lily May Peel)</td>\n",
       "      <td>female</td>\n",
       "      <td>35.0</td>\n",
       "      <td>1</td>\n",
       "      <td>0</td>\n",
       "      <td>113803</td>\n",
       "      <td>53.1000</td>\n",
       "      <td>C123</td>\n",
       "      <td>S</td>\n",
       "    </tr>\n",
       "    <tr>\n",
       "      <th>4</th>\n",
       "      <td>5</td>\n",
       "      <td>0</td>\n",
       "      <td>3</td>\n",
       "      <td>Allen, Mr. William Henry</td>\n",
       "      <td>male</td>\n",
       "      <td>35.0</td>\n",
       "      <td>0</td>\n",
       "      <td>0</td>\n",
       "      <td>373450</td>\n",
       "      <td>8.0500</td>\n",
       "      <td>NaN</td>\n",
       "      <td>S</td>\n",
       "    </tr>\n",
       "  </tbody>\n",
       "</table>\n",
       "</div>"
      ],
      "text/plain": [
       "   PassengerId  Survived  Pclass  \\\n",
       "0            1         0       3   \n",
       "1            2         1       1   \n",
       "2            3         1       3   \n",
       "3            4         1       1   \n",
       "4            5         0       3   \n",
       "\n",
       "                                                Name     Sex   Age  SibSp  \\\n",
       "0                            Braund, Mr. Owen Harris    male  22.0      1   \n",
       "1  Cumings, Mrs. John Bradley (Florence Briggs Th...  female  38.0      1   \n",
       "2                             Heikkinen, Miss. Laina  female  26.0      0   \n",
       "3       Futrelle, Mrs. Jacques Heath (Lily May Peel)  female  35.0      1   \n",
       "4                           Allen, Mr. William Henry    male  35.0      0   \n",
       "\n",
       "   Parch            Ticket     Fare Cabin Embarked  \n",
       "0      0         A/5 21171   7.2500   NaN        S  \n",
       "1      0          PC 17599  71.2833   C85        C  \n",
       "2      0  STON/O2. 3101282   7.9250   NaN        S  \n",
       "3      0            113803  53.1000  C123        S  \n",
       "4      0            373450   8.0500   NaN        S  "
      ]
     },
     "execution_count": 1050,
     "metadata": {},
     "output_type": "execute_result"
    }
   ],
   "source": [
    "train.head()"
   ]
  },
  {
   "cell_type": "markdown",
   "metadata": {},
   "source": [
    "## Data Exploration and Cleaning\n",
    "\n",
    "###  `Pclass`, `Sex`, and `Age`\n",
    "\n",
    "By reorganizing and visualizing the data, we can come to two conclusions:\n",
    "\n",
    "* Women and children were more likely to survive (which agrees with the [\"women and children first\"](https://en.wikipedia.org/wiki/Women_and_children_first) code of conduct)\n",
    "* The higher the socio-economic status (the lower the `Pclass`), the more likely the passengers are to survive.\n",
    "\n",
    "Below we see that about 74% of women survive, while less than 19% of men survive."
   ]
  },
  {
   "cell_type": "code",
   "execution_count": 1051,
   "metadata": {},
   "outputs": [
    {
     "data": {
      "text/html": [
       "<div>\n",
       "<style scoped>\n",
       "    .dataframe tbody tr th:only-of-type {\n",
       "        vertical-align: middle;\n",
       "    }\n",
       "\n",
       "    .dataframe tbody tr th {\n",
       "        vertical-align: top;\n",
       "    }\n",
       "\n",
       "    .dataframe thead th {\n",
       "        text-align: right;\n",
       "    }\n",
       "</style>\n",
       "<table border=\"1\" class=\"dataframe\">\n",
       "  <thead>\n",
       "    <tr style=\"text-align: right;\">\n",
       "      <th></th>\n",
       "      <th>Survived</th>\n",
       "    </tr>\n",
       "    <tr>\n",
       "      <th>Sex</th>\n",
       "      <th></th>\n",
       "    </tr>\n",
       "  </thead>\n",
       "  <tbody>\n",
       "    <tr>\n",
       "      <th>female</th>\n",
       "      <td>74.203822</td>\n",
       "    </tr>\n",
       "    <tr>\n",
       "      <th>male</th>\n",
       "      <td>18.890815</td>\n",
       "    </tr>\n",
       "  </tbody>\n",
       "</table>\n",
       "</div>"
      ],
      "text/plain": [
       "         Survived\n",
       "Sex              \n",
       "female  74.203822\n",
       "male    18.890815"
      ]
     },
     "execution_count": 1051,
     "metadata": {},
     "output_type": "execute_result"
    }
   ],
   "source": [
    "train.pivot_table(index=\"Sex\",values=\"Survived\") * 100"
   ]
  },
  {
   "cell_type": "markdown",
   "metadata": {},
   "source": [
    "As for socio-economic status, 63% of upper class passengers; 47% of middle class passengers; and 24 percent of lower class passengers survived."
   ]
  },
  {
   "cell_type": "code",
   "execution_count": 1052,
   "metadata": {},
   "outputs": [
    {
     "data": {
      "text/html": [
       "<div>\n",
       "<style scoped>\n",
       "    .dataframe tbody tr th:only-of-type {\n",
       "        vertical-align: middle;\n",
       "    }\n",
       "\n",
       "    .dataframe tbody tr th {\n",
       "        vertical-align: top;\n",
       "    }\n",
       "\n",
       "    .dataframe thead th {\n",
       "        text-align: right;\n",
       "    }\n",
       "</style>\n",
       "<table border=\"1\" class=\"dataframe\">\n",
       "  <thead>\n",
       "    <tr style=\"text-align: right;\">\n",
       "      <th></th>\n",
       "      <th>Survived</th>\n",
       "    </tr>\n",
       "    <tr>\n",
       "      <th>Pclass</th>\n",
       "      <th></th>\n",
       "    </tr>\n",
       "  </thead>\n",
       "  <tbody>\n",
       "    <tr>\n",
       "      <th>1</th>\n",
       "      <td>62.962963</td>\n",
       "    </tr>\n",
       "    <tr>\n",
       "      <th>2</th>\n",
       "      <td>47.282609</td>\n",
       "    </tr>\n",
       "    <tr>\n",
       "      <th>3</th>\n",
       "      <td>24.236253</td>\n",
       "    </tr>\n",
       "  </tbody>\n",
       "</table>\n",
       "</div>"
      ],
      "text/plain": [
       "         Survived\n",
       "Pclass           \n",
       "1       62.962963\n",
       "2       47.282609\n",
       "3       24.236253"
      ]
     },
     "execution_count": 1052,
     "metadata": {},
     "output_type": "execute_result"
    }
   ],
   "source": [
    "train.pivot_table(index=\"Pclass\",values=\"Survived\") * 100"
   ]
  },
  {
   "cell_type": "markdown",
   "metadata": {},
   "source": [
    "Lastly, let us observe a histogram of the age of the passengers:"
   ]
  },
  {
   "cell_type": "code",
   "execution_count": 1053,
   "metadata": {},
   "outputs": [
    {
     "data": {
      "image/png": "[encoded data removed]",
      "text/plain": [
       "<Figure size 432x288 with 1 Axes>"
      ]
     },
     "metadata": {
      "needs_background": "light"
     },
     "output_type": "display_data"
    }
   ],
   "source": [
    "import matplotlib.pyplot as plt\n",
    "%matplotlib inline\n",
    "\n",
    "train.hist(column='Age', bins=20);"
   ]
  },
  {
   "cell_type": "markdown",
   "metadata": {},
   "source": [
    "Is there a threshold age below which a passenger is most likely to survive? We can create a function of a threshold `thresh` that returns the percentage of people younger than the threshold who survived.\n",
    "\n",
    "We will plot the percentage of survivors below a threshold, along with the percentage of passengers younger than each age threshold"
   ]
  },
  {
   "cell_type": "code",
   "execution_count": 1054,
   "metadata": {},
   "outputs": [
    {
     "data": {
      "image/png": "[encoded data removed]",
      "text/plain": [
       "<Figure size 432x288 with 1 Axes>"
      ]
     },
     "metadata": {
      "needs_background": "light"
     },
     "output_type": "display_data"
    }
   ],
   "source": [
    "import numpy as np\n",
    "\n",
    "def pct_survivors(thresh):\n",
    "    train_lt = train.loc[train['Age'] <= thresh].copy()\n",
    "    return len(train_lt.loc[train_lt['Survived'] == 1])/len(train_lt) * 100\n",
    "\n",
    "def pct_passengers(age):\n",
    "    return len(train.loc[train['Age'] <= age]) / len(train) * 100\n",
    "\n",
    "threshes = list(range(1, 80))\n",
    "pcts = [pct_survivors(thresh) for thresh in threshes]\n",
    "passengers = [pct_passengers(thresh) for thresh in threshes]\n",
    "\n",
    "_, ax = plt.subplots(1, 1)\n",
    "ax.plot(threshes, pcts, label='% of survivors below age thresh');\n",
    "ax.plot(threshes, passengers, color='#880000', label='% of passengers below age thresh');\n",
    "\n",
    "indices = [4, 13]\n",
    "for max_index in indices:\n",
    "    ax.scatter(threshes[max_index], pcts[max_index], s=30, color='#005544');\n",
    "    ax.text(threshes[max_index], pcts[max_index]+3, s='Age = {}'.format(max_index));\n",
    "ax.set_xlabel('Age threshold')\n",
    "ax.legend();"
   ]
  },
  {
   "cell_type": "markdown",
   "metadata": {},
   "source": [
    "From the graph above it seems like there are two main categories of children: young children (4 and under); and older children (between 5 and 13). The steep decline in the survival percentage after age 13 (and steep increase in the number of passengers above that age) indicates that 13 may have been the understood age of adulthood at that time. The peak at age 4 signals that while all children may have been saved first, the youngest were likely put on the lifeboats ahead of the older children.\n",
    "\n",
    "Rather than treating the age of the passengers as a continuous variable, we can transform it into a categorical one by age group. Let's view a bar plot of the survival frequencies, creating a few more age groups among the adults. We will create a `Missing` category for those rows without ages as well."
   ]
  },
  {
   "cell_type": "code",
   "execution_count": 1055,
   "metadata": {},
   "outputs": [],
   "source": [
    "def survival_freqs(cut_points, labels):\n",
    "    ages = train[['Age', 'Survived']].copy()\n",
    "    ages['Age'].fillna(-0.5, inplace=True)\n",
    "    ages['Age'] = pd.cut(ages['Age'], cut_points, labels=labels)\n",
    "    return ages.pivot_table(index='Age', values='Survived')"
   ]
  },
  {
   "cell_type": "code",
   "execution_count": 1056,
   "metadata": {},
   "outputs": [
    {
     "data": {
      "image/png": "[encoded data removed]",
      "text/plain": [
       "<Figure size 432x288 with 1 Axes>"
      ]
     },
     "metadata": {
      "needs_background": "light"
     },
     "output_type": "display_data"
    }
   ],
   "source": [
    "cut_points = [-1, 0, 4, 13, 18, 30, 60, 100]\n",
    "label_names = ['Missing', 'Younger Child', 'Older Child', 'Teenager', 'Young Adult', 'Adult', 'Senior']\n",
    "survival_freqs(cut_points, label_names).plot.bar(legend=False);"
   ]
  },
  {
   "cell_type": "markdown",
   "metadata": {},
   "source": [
    "From this we have learned that seniors have the lowest survival rate, indicating that we should indeed distinguish them from younger adults. But the `Teenager`, `Young Adult`, and `Adult` categories do not provide use with much additional information. Let's try the same thing with five categories (not including `Missing`):"
   ]
  },
  {
   "cell_type": "code",
   "execution_count": 1057,
   "metadata": {},
   "outputs": [
    {
     "data": {
      "image/png": "[encoded data removed]",
      "text/plain": [
       "<Figure size 432x288 with 1 Axes>"
      ]
     },
     "metadata": {
      "needs_background": "light"
     },
     "output_type": "display_data"
    }
   ],
   "source": [
    "cut_points = [-1, 0, 4, 13, 60, 100]\n",
    "label_names = ['Missing', 'Younger Child', 'Older Child', 'Adult', 'Senior']\n",
    "survival_freqs(cut_points, label_names).plot.bar(legend=False);"
   ]
  },
  {
   "cell_type": "markdown",
   "metadata": {},
   "source": [
    "This gives us a nice, monotonic relationship between the age group and the survival probability (though the `Missing` category makes things a bit messier)."
   ]
  },
  {
   "cell_type": "markdown",
   "metadata": {},
   "source": [
    "### Dummy Columns\n",
    "\n",
    "We can now clean our data by converting the `Age`, `Sex`, and `Pclass` columns mentioned in the previous section into categories - along with the `Embarked` column. `Embarked` represents one of three possible ports of embarkation, and it breaks down in the following way:"
   ]
  },
  {
   "cell_type": "code",
   "execution_count": 1058,
   "metadata": {},
   "outputs": [
    {
     "data": {
      "text/plain": [
       "S    644\n",
       "C    168\n",
       "Q     77\n",
       "Name: Embarked, dtype: int64"
      ]
     },
     "execution_count": 1058,
     "metadata": {},
     "output_type": "execute_result"
    }
   ],
   "source": [
    "train['Embarked'].value_counts()"
   ]
  },
  {
   "cell_type": "code",
   "execution_count": 1059,
   "metadata": {},
   "outputs": [
    {
     "data": {
      "text/plain": [
       "2"
      ]
     },
     "execution_count": 1059,
     "metadata": {},
     "output_type": "execute_result"
    }
   ],
   "source": [
    "# number of null entries\n",
    "len(train.loc[pd.isnull(train['Embarked'])])"
   ]
  },
  {
   "cell_type": "markdown",
   "metadata": {},
   "source": [
    "Since there are only two null entries for `Embarked`, we'll set them equal to the majority class (`S`)"
   ]
  },
  {
   "cell_type": "code",
   "execution_count": 1060,
   "metadata": {},
   "outputs": [],
   "source": [
    "train.loc[pd.isnull(train['Embarked']), 'Embarked'] = 'S'"
   ]
  },
  {
   "cell_type": "markdown",
   "metadata": {},
   "source": [
    "For all the aforementioned columns we will derive **dummy columns**, which split each possible value for a category into its own column with a value of 0 or 1. For example, rather than have a single column for `Sex` with a value of `male` or `female`, we will have `Sex_male` and `Sex_female` columns. Each dummy column takes on a value of 1 if the category applies to the passenger, and 0 otherwise. This is a common way of making qualitative fields (or ordinal fields where the distances between categories is unknown) friendly to machine learning models.\n",
    "\n",
    "The full list of dummy columns contains one column more than we actually need; because each row only contains a single value of 1, we can infer the value of any column by inspecting the values of the others. Thus, we will leave off one column each time we create the dummy columns from the categories.\n",
    "\n",
    "We will create dummy columns for `Pclass`, `Sex`, `Embarked`, and a new `AgeGroup` column that simply bins the ages into the age groups discussed above."
   ]
  },
  {
   "cell_type": "code",
   "execution_count": 1061,
   "metadata": {},
   "outputs": [],
   "source": [
    "def age_map(age):\n",
    "    if 0 <= age < 4:\n",
    "        return 'younger_child'\n",
    "    if 4 <= age < 13:\n",
    "        return 'older_child'\n",
    "    if 13 <= age < 60:\n",
    "        return 'adult'\n",
    "    if age >= 60:\n",
    "        return 'senior'\n",
    "    return 'missing'  # otherwise missing\n",
    "\n",
    "train['AgeGroup'] = train['Age'].map(age_map)\n",
    "test['AgeGroup'] = test['Age'].map(age_map);"
   ]
  },
  {
   "cell_type": "markdown",
   "metadata": {},
   "source": [
    "Here is a function to help us create our dummy columns."
   ]
  },
  {
   "cell_type": "code",
   "execution_count": 1062,
   "metadata": {},
   "outputs": [],
   "source": [
    "train_predict_cols = list()\n",
    "test_predict_cols = list()\n",
    "\n",
    "def create_dummies(column_names):\n",
    "    dummy_cols = list()\n",
    "    output_dfs = list()\n",
    "    dfs = [train, test]\n",
    "    for df in dfs:\n",
    "        current_dummy_cols = list()\n",
    "        for col in column_names:\n",
    "            dummies = pd.get_dummies(df[col], prefix=col)\n",
    "            df = pd.concat([df, dummies], axis=1)\n",
    "            current_dummy_cols.extend(list(dummies.columns))\n",
    "        \n",
    "        # get rid of last dummy column\n",
    "        last_col = current_dummy_cols[-1]\n",
    "        current_dummy_cols.remove(last_col)\n",
    "        output_dfs.append(df.drop(columns=[last_col]))\n",
    "        dummy_cols.append(current_dummy_cols)\n",
    "    \n",
    "    # this function has the side-effect of tacking on new column names to train_predict_cols and test_predict_cols\n",
    "    train_predict_cols.extend(dummy_cols[0])\n",
    "    test_predict_cols.extend(dummy_cols[1])\n",
    "    \n",
    "    return output_dfs[0], output_dfs[1]"
   ]
  },
  {
   "cell_type": "code",
   "execution_count": 1063,
   "metadata": {},
   "outputs": [],
   "source": [
    "prefixes = ['AgeGroup', 'Sex', 'Pclass', 'Embarked']\n",
    "train, test = create_dummies(prefixes)"
   ]
  },
  {
   "cell_type": "markdown",
   "metadata": {},
   "source": [
    "### Other Columns\n",
    "\n",
    "We still have several columns left to look at: `PassengerId`, `Name`, `SibSp`, `Parch`, `Ticket`, `Fare`, and `Cabin`. `PassengerId` is just a random ID assigned to the passenger, so we won't use this at all. Let us look at the three quantitative columns: `SibSp`, `Parch`, and `Fare`"
   ]
  },
  {
   "cell_type": "code",
   "execution_count": 1064,
   "metadata": {
    "scrolled": true
   },
   "outputs": [
    {
     "data": {
      "text/html": [
       "<div>\n",
       "<style scoped>\n",
       "    .dataframe tbody tr th:only-of-type {\n",
       "        vertical-align: middle;\n",
       "    }\n",
       "\n",
       "    .dataframe tbody tr th {\n",
       "        vertical-align: top;\n",
       "    }\n",
       "\n",
       "    .dataframe thead th {\n",
       "        text-align: right;\n",
       "    }\n",
       "</style>\n",
       "<table border=\"1\" class=\"dataframe\">\n",
       "  <thead>\n",
       "    <tr style=\"text-align: right;\">\n",
       "      <th></th>\n",
       "      <th>SibSp</th>\n",
       "      <th>Parch</th>\n",
       "      <th>Fare</th>\n",
       "    </tr>\n",
       "  </thead>\n",
       "  <tbody>\n",
       "    <tr>\n",
       "      <th>count</th>\n",
       "      <td>891.000000</td>\n",
       "      <td>891.000000</td>\n",
       "      <td>891.000000</td>\n",
       "    </tr>\n",
       "    <tr>\n",
       "      <th>mean</th>\n",
       "      <td>0.523008</td>\n",
       "      <td>0.381594</td>\n",
       "      <td>32.204208</td>\n",
       "    </tr>\n",
       "    <tr>\n",
       "      <th>std</th>\n",
       "      <td>1.102743</td>\n",
       "      <td>0.806057</td>\n",
       "      <td>49.693429</td>\n",
       "    </tr>\n",
       "    <tr>\n",
       "      <th>min</th>\n",
       "      <td>0.000000</td>\n",
       "      <td>0.000000</td>\n",
       "      <td>0.000000</td>\n",
       "    </tr>\n",
       "    <tr>\n",
       "      <th>25%</th>\n",
       "      <td>0.000000</td>\n",
       "      <td>0.000000</td>\n",
       "      <td>7.910400</td>\n",
       "    </tr>\n",
       "    <tr>\n",
       "      <th>50%</th>\n",
       "      <td>0.000000</td>\n",
       "      <td>0.000000</td>\n",
       "      <td>14.454200</td>\n",
       "    </tr>\n",
       "    <tr>\n",
       "      <th>75%</th>\n",
       "      <td>1.000000</td>\n",
       "      <td>0.000000</td>\n",
       "      <td>31.000000</td>\n",
       "    </tr>\n",
       "    <tr>\n",
       "      <th>max</th>\n",
       "      <td>8.000000</td>\n",
       "      <td>6.000000</td>\n",
       "      <td>512.329200</td>\n",
       "    </tr>\n",
       "  </tbody>\n",
       "</table>\n",
       "</div>"
      ],
      "text/plain": [
       "            SibSp       Parch        Fare\n",
       "count  891.000000  891.000000  891.000000\n",
       "mean     0.523008    0.381594   32.204208\n",
       "std      1.102743    0.806057   49.693429\n",
       "min      0.000000    0.000000    0.000000\n",
       "25%      0.000000    0.000000    7.910400\n",
       "50%      0.000000    0.000000   14.454200\n",
       "75%      1.000000    0.000000   31.000000\n",
       "max      8.000000    6.000000  512.329200"
      ]
     },
     "execution_count": 1064,
     "metadata": {},
     "output_type": "execute_result"
    }
   ],
   "source": [
    "other_cols = ['SibSp', 'Parch', 'Fare']\n",
    "train[other_cols].describe()"
   ]
  },
  {
   "cell_type": "markdown",
   "metadata": {},
   "source": [
    "The first three columns are numerical, and their ranges vary greatly (e.g. `Fare` ranges from 0 to about 512, while `SibSp` ranges from 0 to 8. We would like to rescale the numerical columns between 0 and 1. We can either use a min-max scaling between 0 and 1, or we can bin the columns into groups and create dummy columns.\n",
    "\n",
    "#### `Fare`\n",
    "Let's look at `Fare` and make it categorical by binning it into groups."
   ]
  },
  {
   "cell_type": "code",
   "execution_count": 1065,
   "metadata": {},
   "outputs": [
    {
     "data": {
      "image/png": "[encoded data removed]",
      "text/plain": [
       "<Figure size 720x288 with 1 Axes>"
      ]
     },
     "metadata": {
      "needs_background": "light"
     },
     "output_type": "display_data"
    }
   ],
   "source": [
    "import seaborn as sns\n",
    "\n",
    "def dual_dist_plot(col, ax=None, bins=10):\n",
    "    if ax is None:\n",
    "        _, ax = plt.subplots(1, 1)\n",
    "        \n",
    "    sns.distplot(train.loc[train['Survived'] == 1, col], bins=bins, kde=False, label='Survived', color='green', ax=ax)\n",
    "    sns.distplot(train.loc[train['Survived'] == 0, col], bins=bins, kde=False, label='Died', ax=ax)\n",
    "    ax.legend();\n",
    "    \n",
    "bins = list(range(1, 140, 10))\n",
    "_, ax = plt.subplots(1, 1, figsize=(10, 4))\n",
    "dual_dist_plot('Fare', ax=ax, bins=bins)"
   ]
  },
  {
   "cell_type": "markdown",
   "metadata": {},
   "source": [
    "We will bin the fares into 4 groups:\n",
    "\n",
    "* \\\\$0-\\\\$10: spike in the death toll up to $10\n",
    "* \\\\$11 - \\\\$50: survival and death tolls both decrease with fare up to \\\\$50\n",
    "* \\\\$50-\\\\$90: boost in survivors\n",
    "* \\\\$90+: outliers\n",
    "\n",
    "Let us create a `Fare_categories` column from which we will derive dummy columns."
   ]
  },
  {
   "cell_type": "code",
   "execution_count": 1066,
   "metadata": {},
   "outputs": [],
   "source": [
    "cut_points = [0, 10, 50, 90, 1000]\n",
    "label_names = ['0-10', '10-50', '50-90', '90+']\n",
    "\n",
    "train['Fare_categories'] = pd.cut(train['Fare'], cut_points, labels=label_names)\n",
    "test['Fare_categories'] = pd.cut(test['Fare'], cut_points, labels=label_names)\n",
    "\n",
    "train, test = create_dummies(['Fare_categories'])"
   ]
  },
  {
   "cell_type": "markdown",
   "metadata": {},
   "source": [
    "#### `Name`\n",
    "\n",
    "The `Name` column may be specific to each individual passenger, but there are a relatively small selection of **titles** each passenger can have. We can extract the title by selecting the first word after the comma, as names are specified in \"last name, first name\" format.\n",
    "\n",
    "We will look at both the train and test dataframes in case members with a new title are present in one dataset and not the other."
   ]
  },
  {
   "cell_type": "code",
   "execution_count": 1067,
   "metadata": {},
   "outputs": [
    {
     "name": "stdout",
     "output_type": "stream",
     "text": [
      "['Capt.' 'Col.' 'Don.' 'Dona.' 'Dr.' 'Jonkheer.' 'Lady.' 'Major.'\n",
      " 'Master.' 'Miss.' 'Mlle.' 'Mme.' 'Mr.' 'Mrs.' 'Ms.' 'Rev.' 'Sir.' 'the']\n"
     ]
    }
   ],
   "source": [
    "def title_map(name):\n",
    "    return name.split(',')[1].split()[0].strip()\n",
    "train_titles = train['Name'].map(title_map)\n",
    "test_titles = test['Name'].map(title_map)\n",
    "titles = np.unique(train_titles.tolist() + test_titles.tolist())\n",
    "print(titles)"
   ]
  },
  {
   "cell_type": "markdown",
   "metadata": {},
   "source": [
    "The only suspicious title is 'the', which is likely part of a longer title that has been truncated. Let us expand any rows with this title."
   ]
  },
  {
   "cell_type": "code",
   "execution_count": 1068,
   "metadata": {},
   "outputs": [
    {
     "data": {
      "text/html": [
       "<div>\n",
       "<style scoped>\n",
       "    .dataframe tbody tr th:only-of-type {\n",
       "        vertical-align: middle;\n",
       "    }\n",
       "\n",
       "    .dataframe tbody tr th {\n",
       "        vertical-align: top;\n",
       "    }\n",
       "\n",
       "    .dataframe thead th {\n",
       "        text-align: right;\n",
       "    }\n",
       "</style>\n",
       "<table border=\"1\" class=\"dataframe\">\n",
       "  <thead>\n",
       "    <tr style=\"text-align: right;\">\n",
       "      <th></th>\n",
       "      <th>PassengerId</th>\n",
       "      <th>Survived</th>\n",
       "      <th>Pclass</th>\n",
       "      <th>Name</th>\n",
       "      <th>Sex</th>\n",
       "      <th>Age</th>\n",
       "      <th>SibSp</th>\n",
       "      <th>Parch</th>\n",
       "      <th>Ticket</th>\n",
       "      <th>Fare</th>\n",
       "      <th>...</th>\n",
       "      <th>Sex_male</th>\n",
       "      <th>Pclass_1</th>\n",
       "      <th>Pclass_2</th>\n",
       "      <th>Pclass_3</th>\n",
       "      <th>Embarked_C</th>\n",
       "      <th>Embarked_Q</th>\n",
       "      <th>Fare_categories</th>\n",
       "      <th>Fare_categories_0-10</th>\n",
       "      <th>Fare_categories_10-50</th>\n",
       "      <th>Fare_categories_50-90</th>\n",
       "    </tr>\n",
       "  </thead>\n",
       "  <tbody>\n",
       "    <tr>\n",
       "      <th>759</th>\n",
       "      <td>760</td>\n",
       "      <td>1</td>\n",
       "      <td>1</td>\n",
       "      <td>Rothes, the Countess. of (Lucy Noel Martha Dye...</td>\n",
       "      <td>female</td>\n",
       "      <td>33.0</td>\n",
       "      <td>0</td>\n",
       "      <td>0</td>\n",
       "      <td>110152</td>\n",
       "      <td>86.5</td>\n",
       "      <td>...</td>\n",
       "      <td>0</td>\n",
       "      <td>1</td>\n",
       "      <td>0</td>\n",
       "      <td>0</td>\n",
       "      <td>0</td>\n",
       "      <td>0</td>\n",
       "      <td>50-90</td>\n",
       "      <td>0</td>\n",
       "      <td>0</td>\n",
       "      <td>1</td>\n",
       "    </tr>\n",
       "  </tbody>\n",
       "</table>\n",
       "<p>1 rows × 29 columns</p>\n",
       "</div>"
      ],
      "text/plain": [
       "     PassengerId  Survived  Pclass  \\\n",
       "759          760         1       1   \n",
       "\n",
       "                                                  Name     Sex   Age  SibSp  \\\n",
       "759  Rothes, the Countess. of (Lucy Noel Martha Dye...  female  33.0      0   \n",
       "\n",
       "     Parch  Ticket  Fare  ... Sex_male Pclass_1 Pclass_2  Pclass_3  \\\n",
       "759      0  110152  86.5  ...        0        1        0         0   \n",
       "\n",
       "     Embarked_C  Embarked_Q  Fare_categories  Fare_categories_0-10  \\\n",
       "759           0           0            50-90                     0   \n",
       "\n",
       "     Fare_categories_10-50  Fare_categories_50-90  \n",
       "759                      0                      1  \n",
       "\n",
       "[1 rows x 29 columns]"
      ]
     },
     "execution_count": 1068,
     "metadata": {},
     "output_type": "execute_result"
    }
   ],
   "source": [
    "the_rows = train_titles.loc[train_titles == 'the']\n",
    "# the_rows\n",
    "train.iloc[the_rows.index]"
   ]
  },
  {
   "cell_type": "markdown",
   "metadata": {},
   "source": [
    "So the title is really *Countess.* This does not occur in the test dataset."
   ]
  },
  {
   "cell_type": "code",
   "execution_count": 1069,
   "metadata": {},
   "outputs": [
    {
     "data": {
      "text/plain": [
       "['Capt.',\n",
       " 'Col.',\n",
       " 'Don.',\n",
       " 'Dona.',\n",
       " 'Dr.',\n",
       " 'Jonkheer.',\n",
       " 'Lady.',\n",
       " 'Major.',\n",
       " 'Master.',\n",
       " 'Miss.',\n",
       " 'Mlle.',\n",
       " 'Mme.',\n",
       " 'Mr.',\n",
       " 'Mrs.',\n",
       " 'Ms.',\n",
       " 'Rev.',\n",
       " 'Sir.',\n",
       " 'Countess.']"
      ]
     },
     "execution_count": 1069,
     "metadata": {},
     "output_type": "execute_result"
    }
   ],
   "source": [
    "titles = [title if title != 'the' else 'Countess.' for title in titles]\n",
    "titles"
   ]
  },
  {
   "cell_type": "markdown",
   "metadata": {},
   "source": [
    "Some of these titles are specific to certain nations or regions. For example, `Jonkheer` is a member of the nobility in the Netherlands, `Mlle` is the French word \"Mademoiselle\" and refers to an unmarried woman, and `Don`/`Dona` are words for nobility in Portugal, Spain, and several other countries. We should therefore break down these more obscure titles into their equivalent classes in English. We will use the mapping below"
   ]
  },
  {
   "cell_type": "code",
   "execution_count": 1070,
   "metadata": {},
   "outputs": [],
   "source": [
    "title_dict = {\n",
    "    \"Mr.\" :         \"Mr\",\n",
    "    \"Mme.\":         \"Mrs\",\n",
    "    \"Ms.\":          \"Mrs\",\n",
    "    \"Mrs.\" :        \"Mrs\",\n",
    "    \"Master.\" :     \"Master\",\n",
    "    \"Mlle.\":        \"Miss\",\n",
    "    \"Miss.\" :       \"Miss\",\n",
    "    \"Capt.\":        \"Military\",\n",
    "    \"Col.\":         \"Military\",\n",
    "    \"Major.\":       \"Military\",\n",
    "    \"Dr.\":          \"Dr\",\n",
    "    \"Rev.\":         \"Rev\",\n",
    "    \"Jonkheer.\":    \"Nobility\",\n",
    "    \"Don.\":         \"Nobility\",\n",
    "    \"Sir.\" :        \"Nobility\",\n",
    "    \"Countess.\":    \"Nobility\",\n",
    "    \"Dona.\":        \"Nobility\",\n",
    "    \"Lady.\" :       \"Nobility\"\n",
    "}"
   ]
  },
  {
   "cell_type": "code",
   "execution_count": 1071,
   "metadata": {},
   "outputs": [],
   "source": [
    "train['Title'] = train_titles.map(title_dict)\n",
    "test['Title'] = test_titles.map(title_dict)"
   ]
  },
  {
   "cell_type": "code",
   "execution_count": 1072,
   "metadata": {},
   "outputs": [],
   "source": [
    "train, test = create_dummies(['Title'])"
   ]
  },
  {
   "cell_type": "markdown",
   "metadata": {},
   "source": [
    "#### `Cabin`\n",
    "\n",
    "As for the cabin, we really only care about the cabin section, which is indicated by the first letter. We will extract this from each cabin and insert it into a column `Cabin_type`"
   ]
  },
  {
   "cell_type": "code",
   "execution_count": 1073,
   "metadata": {},
   "outputs": [],
   "source": [
    "train['Cabin_type'] = train['Cabin'].map(lambda x: x if pd.isnull(x) else x[0])\n",
    "train['Cabin_type'].fillna('Unknown', inplace=True)\n",
    "\n",
    "test['Cabin_type'] = test['Cabin'].map(lambda x: x if pd.isnull(x) else x[0])\n",
    "test['Cabin_type'].fillna('Unknown', inplace=True)\n",
    "\n",
    "train, test = create_dummies(['Cabin_type'])"
   ]
  },
  {
   "cell_type": "markdown",
   "metadata": {},
   "source": [
    "#### `SibSp`\n",
    "\n",
    "Let's look at `SibSp` - the number of siblings (or spouses) the passenger has"
   ]
  },
  {
   "cell_type": "code",
   "execution_count": 1074,
   "metadata": {},
   "outputs": [
    {
     "data": {
      "image/png": "[encoded data removed]",
      "text/plain": [
       "<Figure size 720x288 with 1 Axes>"
      ]
     },
     "metadata": {
      "needs_background": "light"
     },
     "output_type": "display_data"
    }
   ],
   "source": [
    "_, ax = plt.subplots(1, 1, figsize=(10, 4))\n",
    "dual_dist_plot('SibSp', ax=ax, bins=list(range(0, 9)))"
   ]
  },
  {
   "cell_type": "markdown",
   "metadata": {},
   "source": [
    "So we are best off splitting the data into unaccompanied people; people with 1-2 siblings/spouses, and people with 2 or more siblings.\n",
    "\n",
    "This captures variations in the data. Unaccompanied passengers were very likely to die; people with 1-2 siblings (or a spouse + 0-1 siblings) had a 50-50 chance of living or dying; and people with 3+ siblings (or a spouse  were more likely to die."
   ]
  },
  {
   "cell_type": "code",
   "execution_count": 1075,
   "metadata": {},
   "outputs": [],
   "source": [
    "def sib_map(sib):\n",
    "    if sib == 0:\n",
    "        return '0'\n",
    "    if sib in (1, 2):\n",
    "        return '1-2'\n",
    "    if sib >= 3:\n",
    "        return '3+'\n",
    "    return 'missing'  # otherwise missing\n",
    "\n",
    "train['SibGroup'] = train['SibSp'].map(sib_map)\n",
    "test['SibGroup'] = test['SibSp'].map(sib_map)\n",
    "\n",
    "train, test = create_dummies(['SibGroup'])"
   ]
  },
  {
   "cell_type": "markdown",
   "metadata": {},
   "source": [
    "### `Parch`\n",
    "\n",
    "Now let's visualize the `Parch` column - or the number of parents or children on the Titanic."
   ]
  },
  {
   "cell_type": "code",
   "execution_count": 1076,
   "metadata": {},
   "outputs": [
    {
     "data": {
      "image/png": "[encoded data removed]",
      "text/plain": [
       "<Figure size 720x288 with 1 Axes>"
      ]
     },
     "metadata": {
      "needs_background": "light"
     },
     "output_type": "display_data"
    }
   ],
   "source": [
    "_, ax = plt.subplots(1, 1, figsize=(10, 4))\n",
    "dual_dist_plot('Parch', ax=ax, bins=list(range(0, 7)))"
   ]
  },
  {
   "cell_type": "markdown",
   "metadata": {},
   "source": [
    "We can split this into two groups.\n",
    "\n",
    "* 0 parents/children (more likely to die)\n",
    "* 1+ parents/children (more even chance)"
   ]
  },
  {
   "cell_type": "code",
   "execution_count": 1077,
   "metadata": {},
   "outputs": [],
   "source": [
    "def parch_map(parch):\n",
    "    if parch == 0:\n",
    "        return '0'\n",
    "    if parch >= 1:\n",
    "        return '1+'\n",
    "    return 'missing'  # otherwise missing\n",
    "\n",
    "train['ParchGroup'] = train['Parch'].map(parch_map)\n",
    "test['ParchGroup'] = test['Parch'].map(parch_map)\n",
    "\n",
    "train, test = create_dummies(['ParchGroup'])"
   ]
  },
  {
   "cell_type": "markdown",
   "metadata": {},
   "source": [
    "#### Redundant columns\n",
    "\n",
    "Lastly, let's look at the correlation coefficients between the predictor columns, to see if we have columns that may provide information that can be inferred from others."
   ]
  },
  {
   "cell_type": "code",
   "execution_count": 1078,
   "metadata": {},
   "outputs": [
    {
     "data": {
      "image/png": "[encoded data removed]",
      "text/plain": [
       "<Figure size 792x648 with 2 Axes>"
      ]
     },
     "metadata": {},
     "output_type": "display_data"
    }
   ],
   "source": [
    "corr = train[train_predict_cols].corr()\n",
    "sns.set(style=\"white\")\n",
    "mask = np.zeros_like(corr, dtype=np.bool)\n",
    "mask[np.triu_indices_from(mask)] = True\n",
    "\n",
    "_, ax = plt.subplots(figsize=(11, 9))\n",
    "cmap = sns.diverging_palette(220, 10, as_cmap=True)\n",
    "sns.heatmap(corr, mask=mask, cmap=cmap, vmax=.3, center=0,\n",
    "        square=True, linewidths=.5, cbar_kws={\"shrink\": .5}, ax=ax);"
   ]
  },
  {
   "cell_type": "markdown",
   "metadata": {},
   "source": [
    "One of the strongest patches of highly-correlated cells occurs between the masculine and feminine titles and the sex columns. We can safely eliminate the sex columns."
   ]
  },
  {
   "cell_type": "code",
   "execution_count": 1079,
   "metadata": {},
   "outputs": [],
   "source": [
    "[train_predict_cols.remove('Sex_{}'.format(x)) for x in ('male', 'female')];\n",
    "[test_predict_cols.remove('Sex_{}'.format(x)) for x in ('male', 'female')];"
   ]
  },
  {
   "cell_type": "markdown",
   "metadata": {},
   "source": [
    "We also observe a weak positive correlation between certain cabin types, passenger classes, and fares. These three are clearly all conceptually correlated."
   ]
  },
  {
   "cell_type": "markdown",
   "metadata": {},
   "source": [
    "As for `Cabin`, it has 204 non-null entires out of 891 total rows, so it is not all that useful.\n",
    "\n",
    "It is now time to set up our predictors and target."
   ]
  },
  {
   "cell_type": "markdown",
   "metadata": {},
   "source": [
    "### Predictor and Target Split\n",
    "\n",
    "In the previous section we developed the list of predictor columns. The target column, of course, is `Survived`. So let's create separate structures for the target and predictors for the training set (the test set does not have a `Survived` column).\n",
    "\n",
    "Also - recall that we have `train_predict_cols` and `test_predict_cols` structures. We only want to use the columns that are present in both. Thus, we will create a `predict_cols` list that only includes entries from `train_predict_cols` that are also present in `test_predict_cols`"
   ]
  },
  {
   "cell_type": "code",
   "execution_count": 1080,
   "metadata": {},
   "outputs": [],
   "source": [
    "target_col = 'Survived'\n",
    "predict_cols = [x for x in train_predict_cols if x in test_predict_cols]\n",
    "X_train, y_train, X_test = train[predict_cols], train[target_col], test[predict_cols]"
   ]
  },
  {
   "cell_type": "markdown",
   "metadata": {},
   "source": [
    "To construct a decent model, we will further split our training data into subsets and try to \"predict\" values from one subset using a model fit from the others. This allows us to determine how accurate our model is at predicting the survival outcome from new data. We will compute a metric called the accuracy score, which computes the fraction of predictions that were correct."
   ]
  },
  {
   "cell_type": "markdown",
   "metadata": {},
   "source": [
    "## Analysis\n",
    "\n",
    "Now that we have chosen our predictors and divided our training data accordingly, we can develop the model! Though there are many choices, we will use a logistic regression model to keep things simple.\n",
    "\n",
    "### Logistic Regression\n",
    "\n",
    "We will set up a logistic regression model using the `LogisticRegression` class in the `scikit-learn` `linear_model` module.\n",
    "\n",
    "We will use `RFECV` to choose the best features for training the model."
   ]
  },
  {
   "cell_type": "code",
   "execution_count": 1081,
   "metadata": {},
   "outputs": [
    {
     "name": "stdout",
     "output_type": "stream",
     "text": [
      "['Pclass_1', 'Title_Master', 'Title_Miss', 'Title_Mrs', 'SibGroup_0', 'SibGroup_1-2']\n"
     ]
    }
   ],
   "source": [
    "from sklearn.linear_model import LogisticRegression\n",
    "from sklearn.feature_selection import RFECV\n",
    "from sklearn.model_selection import GridSearchCV\n",
    "\n",
    "lr = LogisticRegression(solver='lbfgs', max_iter=1000)\n",
    "selector = RFECV(lr, cv=10)\n",
    "selector.fit(X_train, y_train)\n",
    "log_best_features = X_train.columns[selector.support_]\n",
    "print(list(log_best_features))"
   ]
  },
  {
   "cell_type": "markdown",
   "metadata": {},
   "source": [
    "The titles encompass the wealth of the passenger (`Pclass_1` is a wealth indicator, essentially); age (`Master` is a designation for male children); marital status (`Miss` versus `Mrs`); gender; and whether or not the passenger is accompanied. So it makes sense that these were chosen as features."
   ]
  },
  {
   "cell_type": "markdown",
   "metadata": {},
   "source": [
    "#### Cross-Validation\n",
    "\n",
    "We will determine the training error using 10-fold cross-validation via `cross_val_score`. So the data is divided into 10 sets, one of which is treated as the testing data for prediction. The scores are calculated for each configuration, yielding a list of ten values. The average is taken as the final CV score."
   ]
  },
  {
   "cell_type": "code",
   "execution_count": 1082,
   "metadata": {},
   "outputs": [
    {
     "name": "stdout",
     "output_type": "stream",
     "text": [
      "[0.84444444 0.83333333 0.78651685 0.87640449 0.83146067 0.80898876\n",
      " 0.78651685 0.76404494 0.83146067 0.84090909]\n",
      "0.8204080127113835\n"
     ]
    }
   ],
   "source": [
    "lr = LogisticRegression(solver='newton-cg', max_iter=1000)\n",
    "scores = cross_val_score(lr, X_train[log_best_features], y_train, cv=10, scoring='accuracy')\n",
    "accuracy = np.mean(scores)\n",
    "print(scores)\n",
    "print(accuracy)"
   ]
  },
  {
   "cell_type": "markdown",
   "metadata": {},
   "source": [
    "So the model is accurate an average of 82% of the time.\n",
    "\n",
    "When submitted to Kaggle, this model yields a score of 0.78468 on the testing data."
   ]
  },
  {
   "cell_type": "markdown",
   "metadata": {},
   "source": [
    "## Submission\n",
    "\n",
    "The submission should be a CSV file with two columns: `PassengerId` and `Survived`. We will construct the prediction DataFrame and then export to a CSV file."
   ]
  },
  {
   "cell_type": "code",
   "execution_count": 1103,
   "metadata": {},
   "outputs": [],
   "source": [
    "lr.fit(X_train[log_best_features], y_train)\n",
    "log_predictions = lr.predict(X_test[log_best_features])\n",
    "log_submission_df = pd.DataFrame({'PassengerId': test['PassengerId'], 'Survived': log_predictions})\n",
    "log_submission_df.to_csv('submission_logistic.csv', index=False)"
   ]
  },
  {
   "cell_type": "markdown",
   "metadata": {},
   "source": [
    "And that's it!"
   ]
  }
 ],
 "metadata": {
  "kernelspec": {
   "display_name": "Python 3",
   "language": "python",
   "name": "python3"
  },
  "language_info": {
   "codemirror_mode": {
    "name": "ipython",
    "version": 3
   },
   "file_extension": ".py",
   "mimetype": "text/x-python",
   "name": "python",
   "nbconvert_exporter": "python",
   "pygments_lexer": "ipython3",
   "version": "3.7.3"
  }
 },
 "nbformat": 4,
 "nbformat_minor": 2
}
